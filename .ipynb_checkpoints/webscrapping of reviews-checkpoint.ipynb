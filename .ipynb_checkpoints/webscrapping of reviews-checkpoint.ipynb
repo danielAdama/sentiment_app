{
 "cells": [
  {
   "cell_type": "code",
   "execution_count": 1,
   "id": "provincial-contribution",
   "metadata": {},
   "outputs": [],
   "source": [
    "from bs4 import BeautifulSoup\n",
    "import requests\n",
    "import pandas as pd"
   ]
  },
  {
   "cell_type": "code",
   "execution_count": 2,
   "id": "seven-livestock",
   "metadata": {},
   "outputs": [],
   "source": [
    "data = []\n",
    "\n",
    "# Obtain the html response\n",
    "response = requests.get('https://www.rottentomatoes.com/m/the_suicide_squad')\n",
    "# Create the beautiful soup object\n",
    "soup = BeautifulSoup(response.text, 'lxml')\n",
    "# Find all the blockquotes class which has paragraphs of the reviews\n",
    "block_tag = soup.find_all('blockquote', {'class': 'media-body'})\n",
    "# Loop over the blockquotes\n",
    "for tag in block_tag:\n",
    "    # Find all paragraphs carring the reviews\n",
    "    review = tag.find_all('p')\n",
    "    # Loop over each paragraph to grab the reviews of suicide squad \n",
    "    # and then append it to a list\n",
    "    for tag in review:\n",
    "        data.append(tag.text.strip())"
   ]
  },
  {
   "cell_type": "code",
   "execution_count": 3,
   "id": "fresh-enhancement",
   "metadata": {},
   "outputs": [
    {
     "data": {
      "text/plain": [
       "'The thing that makes The Suicide Squad so singularly distasteful is closely related to its factory-installed cynicism: the unconscionable glibness that grows out of it.'"
      ]
     },
     "execution_count": 3,
     "metadata": {},
     "output_type": "execute_result"
    }
   ],
   "source": [
    "data[0]"
   ]
  },
  {
   "cell_type": "code",
   "execution_count": 4,
   "id": "executed-bible",
   "metadata": {},
   "outputs": [
    {
     "data": {
      "text/html": [
       "<div>\n",
       "<style scoped>\n",
       "    .dataframe tbody tr th:only-of-type {\n",
       "        vertical-align: middle;\n",
       "    }\n",
       "\n",
       "    .dataframe tbody tr th {\n",
       "        vertical-align: top;\n",
       "    }\n",
       "\n",
       "    .dataframe thead th {\n",
       "        text-align: right;\n",
       "    }\n",
       "</style>\n",
       "<table border=\"1\" class=\"dataframe\">\n",
       "  <thead>\n",
       "    <tr style=\"text-align: right;\">\n",
       "      <th></th>\n",
       "      <th>Scrapped_review_suicide_squad</th>\n",
       "    </tr>\n",
       "  </thead>\n",
       "  <tbody>\n",
       "    <tr>\n",
       "      <th>0</th>\n",
       "      <td>The thing that makes The Suicide Squad so sing...</td>\n",
       "    </tr>\n",
       "    <tr>\n",
       "      <th>1</th>\n",
       "      <td>'The Suicide Squad' represents the very best t...</td>\n",
       "    </tr>\n",
       "    <tr>\n",
       "      <th>2</th>\n",
       "      <td>If there was even an iota of human emotion evi...</td>\n",
       "    </tr>\n",
       "    <tr>\n",
       "      <th>3</th>\n",
       "      <td>If the ham-fisted glut of multi-million dollar...</td>\n",
       "    </tr>\n",
       "    <tr>\n",
       "      <th>4</th>\n",
       "      <td>The movie is too much, too long, but not lacki...</td>\n",
       "    </tr>\n",
       "  </tbody>\n",
       "</table>\n",
       "</div>"
      ],
      "text/plain": [
       "                       Scrapped_review_suicide_squad\n",
       "0  The thing that makes The Suicide Squad so sing...\n",
       "1  'The Suicide Squad' represents the very best t...\n",
       "2  If there was even an iota of human emotion evi...\n",
       "3  If the ham-fisted glut of multi-million dollar...\n",
       "4  The movie is too much, too long, but not lacki..."
      ]
     },
     "execution_count": 4,
     "metadata": {},
     "output_type": "execute_result"
    }
   ],
   "source": [
    "data_scrapped = pd.DataFrame(data, columns = ['Scrapped_review_suicide_squad'])\n",
    "data_scrapped.head()"
   ]
  },
  {
   "cell_type": "code",
   "execution_count": 6,
   "id": "cubic-donna",
   "metadata": {},
   "outputs": [],
   "source": [
    "data_scrapped.to_csv('Scrapped_review_suicide_squad.csv')"
   ]
  },
  {
   "cell_type": "code",
   "execution_count": null,
   "id": "deadly-cooperation",
   "metadata": {},
   "outputs": [],
   "source": []
  },
  {
   "cell_type": "code",
   "execution_count": null,
   "id": "alleged-thermal",
   "metadata": {},
   "outputs": [],
   "source": []
  }
 ],
 "metadata": {
  "kernelspec": {
   "display_name": "Python 3",
   "language": "python",
   "name": "python3"
  },
  "language_info": {
   "codemirror_mode": {
    "name": "ipython",
    "version": 3
   },
   "file_extension": ".py",
   "mimetype": "text/x-python",
   "name": "python",
   "nbconvert_exporter": "python",
   "pygments_lexer": "ipython3",
   "version": "3.8.5"
  }
 },
 "nbformat": 4,
 "nbformat_minor": 5
}
